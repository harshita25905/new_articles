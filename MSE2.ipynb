{
  "nbformat": 4,
  "nbformat_minor": 0,
  "metadata": {
    "colab": {
      "provenance": [],
      "authorship_tag": "ABX9TyOJF0PvvotIJQgW8E/TnC5h",
      "include_colab_link": true
    },
    "kernelspec": {
      "name": "python3",
      "display_name": "Python 3"
    },
    "language_info": {
      "name": "python"
    }
  },
  "cells": [
    {
      "cell_type": "markdown",
      "metadata": {
        "id": "view-in-github",
        "colab_type": "text"
      },
      "source": [
        "<a href=\"https://colab.research.google.com/github/harshita25905/new_articles/blob/main/MSE2.ipynb\" target=\"_parent\"><img src=\"https://colab.research.google.com/assets/colab-badge.svg\" alt=\"Open In Colab\"/></a>"
      ]
    },
    {
      "cell_type": "code",
      "execution_count": 7,
      "metadata": {
        "colab": {
          "base_uri": "https://localhost:8080/"
        },
        "id": "AkVgGRBDrRXW",
        "outputId": "c394d46c-65b4-46d7-8b9a-e0809ead8232"
      },
      "outputs": [
        {
          "output_type": "stream",
          "name": "stdout",
          "text": [
            "\n",
            "Classification Report:\n",
            "               precision    recall  f1-score   support\n",
            "\n",
            "    business       0.20      0.20      0.20         5\n",
            "      sports       0.57      0.57      0.57         7\n",
            "        tech       0.38      0.38      0.38         8\n",
            "\n",
            "    accuracy                           0.40        20\n",
            "   macro avg       0.38      0.38      0.38        20\n",
            "weighted avg       0.40      0.40      0.40        20\n",
            "\n",
            "Accuracy: 0.4000\n",
            "Precision: 0.4000\n",
            "Recall: 0.4000\n"
          ]
        }
      ],
      "source": [
        "# Install required libraries (if not already installed)\n",
        "# !pip install pandas scikit-learn matplotlib seaborn\n",
        "\n",
        "import pandas as pd\n",
        "import numpy as np\n",
        "from sklearn.model_selection import train_test_split\n",
        "from sklearn.ensemble import RandomForestClassifier\n",
        "from sklearn.metrics import confusion_matrix, classification_report, accuracy_score, precision_score, recall_score\n",
        "import matplotlib.pyplot as plt\n",
        "import seaborn as sns\n",
        "\n",
        "# 1. Load the dataset\n",
        "file_path = 'news_articles.csv'\n",
        "data = pd.read_csv(file_path)\n",
        "\n",
        "\n",
        "# 2. Define features (X) and labels (y)\n",
        "X = data[['word_count', 'has_keywords', 'read_time']]\n",
        "y = data['category']\n",
        "\n",
        "# 3. Split the data into training and testing sets\n",
        "X_train, X_test, y_train, y_test = train_test_split(X, y, test_size=0.2, random_state=42)\n",
        "\n",
        "# 4. Initialize and train the classifier\n",
        "clf = RandomForestClassifier(random_state=42)\n",
        "clf.fit(X_train, y_train)\n",
        "\n",
        "# 5. Make predictions\n",
        "y_pred = clf.predict(X_test)\n",
        "\n",
        "# 6. Calculate evaluation metrics\n",
        "accuracy = accuracy_score(y_test, y_pred)\n",
        "precision = precision_score(y_test, y_pred, average='weighted', zero_division=0)\n",
        "recall = recall_score(y_test, y_pred, average='weighted', zero_division=0)\n",
        "print(\"\\nClassification Report:\\n\", classification_report(y_test, y_pred, zero_division=0))\n",
        "print(f\"Accuracy: {accuracy:.4f}\")\n",
        "print(f\"Precision: {precision:.4f}\")\n",
        "print(f\"Recall: {recall:.4f}\")\n",
        "\n",
        "# 7. Create the confusion matrix\n",
        "cm = confusion_matrix(y_test, y_pred)\n",
        "\n",
        "# 8. Plot the heatmap\n"
      ]
    }
  ]
}